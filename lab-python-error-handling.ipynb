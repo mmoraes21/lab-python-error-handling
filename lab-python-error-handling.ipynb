{
 "cells": [
  {
   "cell_type": "markdown",
   "id": "25d7736c-ba17-4aff-b6bb-66eba20fbf4e",
   "metadata": {},
   "source": [
    "# Lab | Error Handling"
   ]
  },
  {
   "cell_type": "markdown",
   "id": "bc99b386-7508-47a0-bcdb-d969deaf6c8b",
   "metadata": {},
   "source": [
    "## Exercise: Error Handling for Managing Customer Orders\n",
    "\n",
    "The implementation of your code for managing customer orders assumes that the user will always enter a valid input. \n",
    "\n",
    "For example, we could modify the `initialize_inventory` function to include error handling.\n",
    "   - If the user enters an invalid quantity (e.g., a negative value or a non-numeric value), display an error message and ask them to re-enter the quantity for that product.\n",
    "   - Use a try-except block to handle the error and continue prompting the user until a valid quantity is entered.\n",
    "\n",
    "```python\n",
    "# Step 1: Define the function for initializing the inventory with error handling\n",
    "def initialize_inventory(products):\n",
    "    inventory = {}\n",
    "    for product in products:\n",
    "        valid_quantity = False\n",
    "        while not valid_quantity:\n",
    "            try:\n",
    "                quantity = int(input(f\"Enter the quantity of {product}s available: \"))\n",
    "                if quantity < 0:\n",
    "                    raise ValueError(\"Invalid quantity! Please enter a non-negative value.\")\n",
    "                valid_quantity = True\n",
    "            except ValueError as error:\n",
    "                print(f\"Error: {error}\")\n",
    "        inventory[product] = quantity\n",
    "    return inventory\n",
    "\n",
    "# Or, in another way:\n",
    "\n",
    "def initialize_inventory(products):\n",
    "    inventory = {}\n",
    "    for product in products:\n",
    "        valid_input = False\n",
    "        while not valid_input:\n",
    "            try:\n",
    "                quantity = int(input(f\"Enter the quantity of {product}s available: \"))\n",
    "                if quantity >= 0:\n",
    "                    inventory[product] = quantity\n",
    "                    valid_input = True\n",
    "                else:\n",
    "                    print(\"Quantity cannot be negative. Please enter a valid quantity.\")\n",
    "            except ValueError:\n",
    "                print(\"Invalid input. Please enter a valid quantity.\")\n",
    "    return inventory\n",
    "```\n",
    "\n",
    "Let's enhance your code by implementing error handling to handle invalid inputs.\n",
    "\n",
    "Follow the steps below to complete the exercise:\n",
    "\n",
    "2. Modify the `calculate_total_price` function to include error handling.\n",
    "   - If the user enters an invalid price (e.g., a negative value or a non-numeric value), display an error message and ask them to re-enter the price for that product.\n",
    "   - Use a try-except block to handle the error and continue prompting the user until a valid price is entered.\n",
    "\n",
    "3. Modify the `get_customer_orders` function to include error handling.\n",
    "   - If the user enters an invalid number of orders (e.g., a negative value or a non-numeric value), display an error message and ask them to re-enter the number of orders.\n",
    "   - If the user enters an invalid product name (e.g., a product name that is not in the inventory), or that doesn't have stock available, display an error message and ask them to re-enter the product name. *Hint: you will need to pass inventory as a parameter*\n",
    "   - Use a try-except block to handle the error and continue prompting the user until a valid product name is entered.\n",
    "\n",
    "4. Test your code by running the program and deliberately entering invalid quantities and product names. Make sure the error handling mechanism works as expected.\n"
   ]
  },
  {
   "cell_type": "code",
   "execution_count": 70,
   "id": "5b7e7cf2",
   "metadata": {},
   "outputs": [],
   "source": [
    "products = [\"t-shirt\", \"mug\", \"hat\", \"book\", \"keychain\"]"
   ]
  },
  {
   "cell_type": "code",
   "execution_count": 71,
   "id": "22f40c4a",
   "metadata": {},
   "outputs": [],
   "source": [
    "def initialize_inventory(products):\n",
    "    inventory = {}\n",
    "    for product in products:\n",
    "        valid_input = False\n",
    "        while not valid_input:\n",
    "            try:\n",
    "                quantity = int(input(f\"Enter the quantity of {product}s available: \"))\n",
    "                if quantity >= 0:\n",
    "                    inventory[product] = quantity\n",
    "                    valid_input = True\n",
    "                else:\n",
    "                    print(\"Quantity cannot be negative. Please enter a valid quantity.\")\n",
    "            except ValueError:\n",
    "                print(\"Invalid input. Please enter a valid quantity.\")\n",
    "    return inventory"
   ]
  },
  {
   "cell_type": "code",
   "execution_count": 72,
   "id": "6e4cc637",
   "metadata": {},
   "outputs": [
    {
     "name": "stdout",
     "output_type": "stream",
     "text": [
      "Enter the quantity of t-shirt:  10\n",
      "Enter the quantity of mug:  10\n",
      "Enter the quantity of hat:  10\n",
      "Enter the quantity of book:  10\n",
      "Enter the quantity of keychain:  10\n"
     ]
    }
   ],
   "source": [
    "inventory = initialize_inventory(products)\n",
    "for product,amount in inventory.items():\n",
    "    print(f\"Enter the quantity of {product}:  {amount}\")"
   ]
  },
  {
   "cell_type": "markdown",
   "id": "ba4c25a9",
   "metadata": {},
   "source": [
    "def get_customer_orders():\n",
    "    customer_orders = set()\n",
    "    while True:\n",
    "        amount = int(input(\"number of items\"))\n",
    "        a = 0\n",
    "        while(amount != a):\n",
    "            product = input(\"type product name \")\n",
    "            customer_orders.add(product)\n",
    "            a += 1\n",
    "        break\n",
    "    return customer_orders"
   ]
  },
  {
   "cell_type": "code",
   "execution_count": 74,
   "id": "1c144bdf",
   "metadata": {},
   "outputs": [],
   "source": [
    "def get_customer_orders(inventory):\n",
    "    customer_orders = set()\n",
    "    while True:\n",
    "        try:\n",
    "            amount = int(input(\"number of items: \"))\n",
    "            if amount < 0:\n",
    "                print(\"enter a positive number.\")\n",
    "            else:\n",
    "                for i in range(amount):\n",
    "                    valid_product = False\n",
    "                    while not valid_product:\n",
    "                        product = input(\"type the product name: \")\n",
    "                        if product not in inventory:\n",
    "                            print(\"enter a existing product.\")\n",
    "                        elif inventory[product] == 0:\n",
    "                            print(f\"{product} out of stock.\")\n",
    "                        else:\n",
    "                            customer_orders.add(product)\n",
    "                            valid_product = True\n",
    "                break\n",
    "        except ValueError:\n",
    "            print(\"enter a positive number.\")\n",
    "    return customer_orders\n"
   ]
  },
  {
   "cell_type": "code",
   "execution_count": 75,
   "id": "95d8f8db",
   "metadata": {},
   "outputs": [
    {
     "name": "stdout",
     "output_type": "stream",
     "text": [
      "{'hat', 'mug'}\n"
     ]
    }
   ],
   "source": [
    "customer_orders = get_customer_orders(inventory)\n",
    "print(customer_orders)"
   ]
  },
  {
   "cell_type": "code",
   "execution_count": 78,
   "id": "e5da3cab",
   "metadata": {},
   "outputs": [],
   "source": [
    "def update_inventory(customer_orders, inventory):\n",
    "    updated_inventory = {product: inventory[product] -1 for product in customer_orders if product in inventory}\n",
    "    inventory.update(updated_inventory)"
   ]
  },
  {
   "cell_type": "code",
   "execution_count": 93,
   "id": "4c58391e",
   "metadata": {},
   "outputs": [
    {
     "name": "stdout",
     "output_type": "stream",
     "text": [
      "{'t-shirt': 10, 'mug': -6, 'hat': -6, 'book': 10, 'keychain': 10}\n"
     ]
    }
   ],
   "source": [
    "update_inventory(customer_orders, inventory)\n",
    "print(inventory)"
   ]
  },
  {
   "cell_type": "markdown",
   "id": "3c945399",
   "metadata": {},
   "source": [
    "def total_price(customer_orders):\n",
    "    tot_price = 0\n",
    "    for product in customer_orders:\n",
    "        price = float(input(f\"Enter the price of {product}: \"))\n",
    "        tot_price += price\n",
    "    return tot_price"
   ]
  },
  {
   "cell_type": "code",
   "execution_count": 94,
   "id": "e318b2d9",
   "metadata": {},
   "outputs": [],
   "source": [
    "def total_price(customer_orders):\n",
    "    tot_price = 0\n",
    "    for product in customer_orders:\n",
    "        valid_input = False\n",
    "        while not valid_input:\n",
    "            try:\n",
    "                price = float(input(f\"Enter the price of {product}: \"))\n",
    "                if price < 0:\n",
    "                    print(\"Enter positive price.\")\n",
    "                else:\n",
    "                    tot_price += price\n",
    "                    valid_input = True\n",
    "            except ValueError:\n",
    "                print(\"Enter a number\")\n",
    "    return tot_price\n"
   ]
  },
  {
   "cell_type": "code",
   "execution_count": 95,
   "id": "c834d729",
   "metadata": {},
   "outputs": [
    {
     "name": "stdout",
     "output_type": "stream",
     "text": [
      "Updated inventory\n",
      "t-shirt:  10\n",
      "mug:  -6\n",
      "hat:  -6\n",
      "book:  10\n",
      "keychain:  10\n",
      "Total price: 2.8\n"
     ]
    }
   ],
   "source": [
    "tot_price = total_price(customer_orders)\n",
    "print(\"Updated inventory\")\n",
    "for product,price in inventory.items():\n",
    "    print(f\"{product}:  {price}\")\n",
    "print(f\"Total price: {tot_price}\")"
   ]
  }
 ],
 "metadata": {
  "kernelspec": {
   "display_name": "Python 3 (ipykernel)",
   "language": "python",
   "name": "python3"
  },
  "language_info": {
   "codemirror_mode": {
    "name": "ipython",
    "version": 3
   },
   "file_extension": ".py",
   "mimetype": "text/x-python",
   "name": "python",
   "nbconvert_exporter": "python",
   "pygments_lexer": "ipython3",
   "version": "3.11.4"
  }
 },
 "nbformat": 4,
 "nbformat_minor": 5
}
